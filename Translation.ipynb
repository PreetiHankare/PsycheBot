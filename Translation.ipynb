{
 "cells": [
  {
   "cell_type": "code",
   "execution_count": 1,
   "id": "6591653b",
   "metadata": {},
   "outputs": [],
   "source": [
    "from transformers import MBartForConditionalGeneration, MBart50TokenizerFast"
   ]
  },
  {
   "cell_type": "code",
   "execution_count": 2,
   "id": "24f7cc7e",
   "metadata": {},
   "outputs": [
    {
     "data": {
      "application/vnd.jupyter.widget-view+json": {
       "model_id": "bd5ceb1a3b284ac99d14fba517c87e03",
       "version_major": 2,
       "version_minor": 0
      },
      "text/plain": [
       "config.json:   0%|          | 0.00/1.43k [00:00<?, ?B/s]"
      ]
     },
     "metadata": {},
     "output_type": "display_data"
    },
    {
     "name": "stderr",
     "output_type": "stream",
     "text": [
      "C:\\Users\\Preeti\\anaconda3\\lib\\site-packages\\huggingface_hub\\file_download.py:149: UserWarning: `huggingface_hub` cache-system uses symlinks by default to efficiently store duplicated files but your machine does not support them in C:\\Users\\Preeti\\.cache\\huggingface\\hub\\models--facebook--mbart-large-50-one-to-many-mmt. Caching files will still work but in a degraded version that might require more space on your disk. This warning can be disabled by setting the `HF_HUB_DISABLE_SYMLINKS_WARNING` environment variable. For more details, see https://huggingface.co/docs/huggingface_hub/how-to-cache#limitations.\n",
      "To support symlinks on Windows, you either need to activate Developer Mode or to run Python as an administrator. In order to see activate developer mode, see this article: https://docs.microsoft.com/en-us/windows/apps/get-started/enable-your-device-for-development\n",
      "  warnings.warn(message)\n"
     ]
    },
    {
     "data": {
      "application/vnd.jupyter.widget-view+json": {
       "model_id": "4024f98c91654c278f7d65c84e7a4b38",
       "version_major": 2,
       "version_minor": 0
      },
      "text/plain": [
       "pytorch_model.bin:   0%|          | 0.00/2.44G [00:00<?, ?B/s]"
      ]
     },
     "metadata": {},
     "output_type": "display_data"
    },
    {
     "data": {
      "application/vnd.jupyter.widget-view+json": {
       "model_id": "52895db2c7a44ec28798553b1bced64e",
       "version_major": 2,
       "version_minor": 0
      },
      "text/plain": [
       "generation_config.json:   0%|          | 0.00/261 [00:00<?, ?B/s]"
      ]
     },
     "metadata": {},
     "output_type": "display_data"
    },
    {
     "data": {
      "application/vnd.jupyter.widget-view+json": {
       "model_id": "00fc6ec8dc1d4257b2f632daabfb46f2",
       "version_major": 2,
       "version_minor": 0
      },
      "text/plain": [
       "tokenizer_config.json:   0%|          | 0.00/528 [00:00<?, ?B/s]"
      ]
     },
     "metadata": {},
     "output_type": "display_data"
    },
    {
     "data": {
      "application/vnd.jupyter.widget-view+json": {
       "model_id": "8c78230ffd69406c9b6a0f20350900bf",
       "version_major": 2,
       "version_minor": 0
      },
      "text/plain": [
       "sentencepiece.bpe.model:   0%|          | 0.00/5.07M [00:00<?, ?B/s]"
      ]
     },
     "metadata": {},
     "output_type": "display_data"
    },
    {
     "data": {
      "application/vnd.jupyter.widget-view+json": {
       "model_id": "89ceaa21e2e74ae59b4b53da4626bb87",
       "version_major": 2,
       "version_minor": 0
      },
      "text/plain": [
       "special_tokens_map.json:   0%|          | 0.00/717 [00:00<?, ?B/s]"
      ]
     },
     "metadata": {},
     "output_type": "display_data"
    }
   ],
   "source": [
    "# download and save model\n",
    "model = MBartForConditionalGeneration.from_pretrained(\"facebook/mbart-large-50-one-to-many-mmt\")\n",
    "\n",
    "# import tokenizer\n",
    "tokenizer_en = MBart50TokenizerFast.from_pretrained(\"facebook/mbart-large-50-one-to-many-mmt\", src_lang=\"en_XX\")\n",
    "tokenizer_hi = MBart50TokenizerFast.from_pretrained(\"facebook/mbart-large-50-one-to-many-mmt\", src_lang=\"hi_IN\")"
   ]
  },
  {
   "cell_type": "code",
   "execution_count": 4,
   "id": "470e0e96",
   "metadata": {},
   "outputs": [],
   "source": [
    "# input sentences\n",
    "input_text_en = [\"Elon Musk sells $8.5 billion in Tesla stock\"]\n",
    "input_text_hi = [\"एलॉन मस्क ने टेस्ला स्टॉक में 8.5 बिलियन डालर की बिक्री की\"]\n",
    "\n",
    "# convert sentences to tensors\n",
    "model_inputs_en = tokenizer_en(input_text_en, return_tensors=\"pt\", padding=True, truncation=True)\n",
    "model_inputs_hi = tokenizer_hi(input_text_hi, return_tensors=\"pt\", padding=True, truncation=True)"
   ]
  },
  {
   "cell_type": "code",
   "execution_count": 5,
   "id": "e97931fb",
   "metadata": {},
   "outputs": [],
   "source": [
    "# translate from English to Hindi\n",
    "generated_tokens_en = model.generate(\n",
    "    **model_inputs_en,\n",
    "    forced_bos_token_id=tokenizer_en.lang_code_to_id[\"hi_IN\"]\n",
    ")\n",
    "\n",
    "# translate from Hindi to English\n",
    "generated_tokens_hi = model.generate(\n",
    "    **model_inputs_hi,\n",
    "    forced_bos_token_id=tokenizer_hi.lang_code_to_id[\"en_XX\"]\n",
    ")"
   ]
  },
  {
   "cell_type": "code",
   "execution_count": 6,
   "id": "307e2529",
   "metadata": {},
   "outputs": [],
   "source": [
    "translation_en_to_hi = tokenizer_en.batch_decode(generated_tokens_hi, skip_special_tokens=True)\n",
    "translation_hi_to_en = tokenizer_hi.batch_decode(generated_tokens_en, skip_special_tokens=True)"
   ]
  },
  {
   "cell_type": "code",
   "execution_count": 7,
   "id": "9d5516ba",
   "metadata": {},
   "outputs": [
    {
     "name": "stdout",
     "output_type": "stream",
     "text": [
      "['एलॉन मस्क ने टेस्ला स्टॉक में 8.5 बिलियन डालर की बिक्री की']\n",
      "['8.5 बिलियन डालर की बिक्री की']\n"
     ]
    }
   ],
   "source": [
    "print(translation_en_to_hi)\n",
    "print(translation_hi_to_en)"
   ]
  },
  {
   "cell_type": "code",
   "execution_count": null,
   "id": "295472be",
   "metadata": {},
   "outputs": [],
   "source": []
  }
 ],
 "metadata": {
  "kernelspec": {
   "display_name": "Python 3 (ipykernel)",
   "language": "python",
   "name": "python3"
  },
  "language_info": {
   "codemirror_mode": {
    "name": "ipython",
    "version": 3
   },
   "file_extension": ".py",
   "mimetype": "text/x-python",
   "name": "python",
   "nbconvert_exporter": "python",
   "pygments_lexer": "ipython3",
   "version": "3.10.9"
  }
 },
 "nbformat": 4,
 "nbformat_minor": 5
}
